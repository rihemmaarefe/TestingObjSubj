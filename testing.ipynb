{
  "cells": [
    {
      "cell_type": "markdown",
      "metadata": {
        "id": "view-in-github",
        "colab_type": "text"
      },
      "source": [
        "<a href=\"https://colab.research.google.com/github/rihemmaarefe/TestingObjSubj/blob/main/testing.ipynb\" target=\"_parent\"><img src=\"https://colab.research.google.com/assets/colab-badge.svg\" alt=\"Open In Colab\"/></a>"
      ]
    },
    {
      "cell_type": "code",
      "execution_count": null,
      "metadata": {
        "id": "eSxDk64vLXFq"
      },
      "outputs": [],
      "source": [
        "# !pip install -q streamlit"
      ]
    },
    {
      "cell_type": "code",
      "execution_count": null,
      "metadata": {
        "id": "pWht4iQcMhUK"
      },
      "outputs": [],
      "source": [
        "# !pip install altair"
      ]
    },
    {
      "cell_type": "code",
      "execution_count": null,
      "metadata": {
        "id": "GBpbXRRkMnCp"
      },
      "outputs": [],
      "source": [
        "# !apt-get upgrade sqlite3"
      ]
    },
    {
      "cell_type": "code",
      "execution_count": null,
      "metadata": {
        "colab": {
          "base_uri": "https://localhost:8080/"
        },
        "id": "UOL173cRMRhM",
        "outputId": "c821e3a6-abeb-46ae-9769-444a82e18432"
      },
      "outputs": [
        {
          "name": "stdout",
          "output_type": "stream",
          "text": [
            "Overwriting app.py\n"
          ]
        }
      ],
      "source": [
        "%%writefile app.py\n",
        "import streamlit as st\n",
        "import pandas as pd \n",
        "import sqlite3\n",
        "from sklearn.feature_extraction.text import CountVectorizer \n",
        "from sklearn.naive_bayes import MultinomialNB \n",
        "import matplotlib.pyplot as plt\n",
        "import altair as alt\n",
        "\n",
        "\n",
        "# Load the data \n",
        "data = pd.read_csv('/content/drive/MyDrive/stage/trainData.csv') \n",
        "X = data['meaning'] \n",
        "y = data['category']\n",
        "\n",
        "# Preprocess the data using the CountVectorizer \n",
        "vectorizer = CountVectorizer(stop_words='english') \n",
        "X_counts = vectorizer.fit_transform(X) \n",
        "\n",
        "# Train a machine learning model \n",
        "model = MultinomialNB() \n",
        "model.fit(X_counts, y) \n",
        "\n",
        "# Define a function to predict the category of new text \n",
        "def predict_category(text):\n",
        "    text_counts = vectorizer.transform([text])\n",
        "    prediction = model.predict(text_counts)\n",
        "    probabilities = model.predict_proba(text_counts)[0]\n",
        "    return prediction[0],probabilities\n",
        "\n",
        "# Define a function to plot the probabilities of each category \n",
        "def plot_probabilities(text):\n",
        "    text_counts = vectorizer.transform([text])\n",
        "    probabilities = model.predict_proba(text_counts)[0]\n",
        "    categories = model.classes_\n",
        "    fig, ax = plt.subplots(figsize=(6, 2))\n",
        "    ax.bar(df_proba['label'], df_proba['probability'])\n",
        "    ax.set_xlabel('Category')\n",
        "    ax.set_ylabel('Probability')\n",
        "    ax.set_title('Category Probabilities')\n",
        "    for i, prob in enumerate(df_proba['probability']):\n",
        "      ax.text(i, prob + 0.05, f\"{prob*100:.2f}%\", ha='center')\n",
        "    st.pyplot(fig)\n",
        "\n",
        "\n",
        "\n",
        "# Define the SessionState class to store the dataframe\n",
        "class SessionState:\n",
        "    def __init__(self):\n",
        "        self.results_df = pd.DataFrame(columns=['text_input', 'predicted_label'])\n",
        "\n",
        "# Create the Streamlit app and initialize the SessionState object\n",
        "st.title('Objective vs. Subjective Text Classifier')\n",
        "state = SessionState()\n",
        "\n",
        "# Connect to the database\n",
        "conn = sqlite3.connect('results.db')\n",
        "c = conn.cursor()\n",
        "\n",
        "# Create a table for the results if it doesn't exist\n",
        "c.execute('''CREATE TABLE IF NOT EXISTS results\n",
        "             (text_input TEXT, predicted_label TEXT)''')\n",
        "\n",
        " # Add a text input and a submit button\n",
        "text_input = st.text_input('Enter some text:')\n",
        "if st.button('Submit'):\n",
        "    # Predict the category and store the input and output data in the dataframe\n",
        "    prediction, probabilities = predict_category(text_input)\n",
        "    state.results_df = state.results_df.append({'text_input': text_input, 'predicted_label': prediction}, ignore_index=True)\n",
        "    \n",
        "    # Insert the results into the database\n",
        "    c.execute(\"INSERT INTO results VALUES (?, ?)\", (text_input, prediction))\n",
        "    conn.commit()\n",
        "    \n",
        "    # Plot the probabilities of each category\n",
        "    # plot_probabilities(text_input)\n",
        "\n",
        "    st.success(\"Data Submitted\")\n",
        "    \n",
        "    res_col1 ,res_col2 = st.columns(2)\n",
        "    with res_col1:\n",
        "      st.info(\"Prediction\")\n",
        "      st.write(prediction)\n",
        "\n",
        "    with res_col2:\n",
        "      st.info(\"Probability\")\n",
        "      #  plot\n",
        "      categories, probabilities = zip(*sorted(zip(model.classes_, probabilities), key=lambda x: x[1], reverse=True))\n",
        "      df_proba = pd.DataFrame({'label': categories, 'probability': probabilities})\n",
        "\n",
        "      # visz\n",
        "      fig = alt.Chart(df_proba).mark_bar().encode(x='label',y='probability')\n",
        "      st.altair_chart(fig,use_container_width=True)\t\n",
        "\n",
        "\n",
        "# Fetch the results from the database and display them in a table\n",
        "c.execute(\"SELECT * FROM results\")\n",
        "results = c.fetchall()\n",
        "results_df = pd.DataFrame(results, columns=['text_input', 'predicted_label'])\n",
        "st.write(results_df)\n",
        "st.write('made by Rihem Maaref')\n",
        "\n",
        "# Close the database connection\n",
        "conn.close()\n",
        "\n",
        "    "
      ]
    },
    {
      "cell_type": "code",
      "execution_count": null,
      "metadata": {
        "id": "-z-IHr07MUpB"
      },
      "outputs": [],
      "source": [
        "# !npm install localtunnel"
      ]
    },
    {
      "cell_type": "code",
      "execution_count": null,
      "metadata": {
        "id": "y-fqmyIqMWA5"
      },
      "outputs": [],
      "source": [
        "!streamlit run /content/app.py &>/content/logs.txt &"
      ]
    },
    {
      "cell_type": "code",
      "execution_count": null,
      "metadata": {
        "colab": {
          "background_save": true,
          "base_uri": "https://localhost:8080/"
        },
        "id": "tROB3KKyMWjh",
        "outputId": "0a8deaf8-ed7c-4dbd-a908-fa1d3de15428"
      },
      "outputs": [
        {
          "name": "stdout",
          "output_type": "stream",
          "text": [
            "\u001b[K\u001b[?25hnpx: installed 22 in 4.562s\n",
            "your url is: https://purple-roses-win-35-194-90-232.loca.lt\n"
          ]
        }
      ],
      "source": [
        "!npx localtunnel --port 8501"
      ]
    },
    {
      "cell_type": "code",
      "execution_count": null,
      "metadata": {
        "id": "ozbFe1YoOT76"
      },
      "outputs": [],
      "source": []
    }
  ],
  "metadata": {
    "colab": {
      "provenance": [],
      "mount_file_id": "15nUaaD3W3a3Cld9Rb6Ss8Vk_nyXMiq8x",
      "authorship_tag": "ABX9TyOsPalAyoKcdGCzUeJQ5/tm",
      "include_colab_link": true
    },
    "kernelspec": {
      "display_name": "Python 3",
      "name": "python3"
    },
    "language_info": {
      "name": "python"
    }
  },
  "nbformat": 4,
  "nbformat_minor": 0
}